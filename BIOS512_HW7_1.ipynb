{
  "cells": [
    {
      "cell_type": "markdown",
      "id": "766a4c53-5596-4e39-9082-8e97c8e59c41",
      "metadata": {
        "id": "766a4c53-5596-4e39-9082-8e97c8e59c41"
      },
      "source": [
        "# Homework 7\n",
        "This homework is based on the advanced Git lectures."
      ]
    },
    {
      "cell_type": "markdown",
      "id": "bbb6e943-d49a-4d2e-81f3-59c2d1a3be31",
      "metadata": {
        "id": "bbb6e943-d49a-4d2e-81f3-59c2d1a3be31"
      },
      "source": [
        "## Question 1\n",
        "#### What is the holy trinity of Git? (Just name the parts.)"
      ]
    },
    {
      "cell_type": "markdown",
      "source": [
        "**Branch, Working Copy, Staging Area**"
      ],
      "metadata": {
        "id": "iemM5I7eFg51"
      },
      "id": "iemM5I7eFg51"
    },
    {
      "cell_type": "markdown",
      "id": "47bc27c0-290e-4e94-a071-a37ff613a7c8",
      "metadata": {
        "id": "47bc27c0-290e-4e94-a071-a37ff613a7c8"
      },
      "source": [
        "## Question 2\n",
        "#### Explain how patches relate to the idea of committing a change to the history of your code?"
      ]
    },
    {
      "cell_type": "markdown",
      "source": [
        "**When a change is committed, Git saves a diff i.e. what is changed between the 2 versions of the file. A patch then takes the diff and applies the changes to the file which updates the file at hand.**"
      ],
      "metadata": {
        "id": "tl-2WcEbF99c"
      },
      "id": "tl-2WcEbF99c"
    },
    {
      "cell_type": "markdown",
      "id": "9aa99e0b-8fbe-4ccc-a728-b39b1fda153c",
      "metadata": {
        "id": "9aa99e0b-8fbe-4ccc-a728-b39b1fda153c"
      },
      "source": [
        "## Question 3\n",
        "#### What is the difference between a branch and a fork?"
      ]
    },
    {
      "cell_type": "markdown",
      "source": [
        "**A branch is the separate line of development within the same repository which is temporary and shared the same project history. A fork is the full copy of the repository which lives distinctly from the original and it can also change independently.**"
      ],
      "metadata": {
        "id": "vtFRXJsld1hd"
      },
      "id": "vtFRXJsld1hd"
    },
    {
      "cell_type": "markdown",
      "id": "c6ac98c7-e4ea-4274-a88d-398cb739fab9",
      "metadata": {
        "id": "c6ac98c7-e4ea-4274-a88d-398cb739fab9"
      },
      "source": [
        "## Question 4\n",
        "#### How are diff and patch related? What’s the difference?"
      ]
    },
    {
      "cell_type": "markdown",
      "source": [
        "**Diff compared two files and shows the difference between them i.e. what lines were added, changed, or deleted. A patch takes the diff and applies the changes to another file, updating it as a result.**"
      ],
      "metadata": {
        "id": "6ROvt-LOedzG"
      },
      "id": "6ROvt-LOedzG"
    },
    {
      "cell_type": "markdown",
      "id": "02988321-54d5-4086-a62f-d6f7a5961c22",
      "metadata": {
        "id": "02988321-54d5-4086-a62f-d6f7a5961c22"
      },
      "source": [
        "## Question 5\n",
        "#### See the diagram below.\n",
        "```\n",
        "alice            *-*-*-*-d-e     \n",
        "bob              *-*-*-*-a-b-c\n",
        "origin/main      *-*-*-*-a-b-c\n",
        "```\n",
        "#### a) What part of the Git trininty does each line represent?\n",
        "#### b) What would the result be if Alice performed a rebase? Edit the diagram. What would she type in the terminal to rebase, then push?\n",
        "#### c) What would the result be if Alice performed a merge? Edit the diagram. What would she type in the terminal to merge, then push?\n",
        "#### d) Which would be the better option (rebase vs. merge)? Why?"
      ]
    },
    {
      "cell_type": "markdown",
      "source": [
        "**a) Each line represents a branch in which the origin/main is the remote branch.**"
      ],
      "metadata": {
        "id": "1J0va8rOfKup"
      },
      "id": "1J0va8rOfKup"
    },
    {
      "cell_type": "markdown",
      "source": [
        "**b) git rebase**\n",
        "```\n",
        "alice            *-*-*-*-a-b-c-d'-e'     \n",
        "bob              *-*-*-*-a-b-c\n",
        "origin/main      *-*-*-*-a-b-c-d'-e'\n",
        "```"
      ],
      "metadata": {
        "id": "swkQceKC-WfN"
      },
      "id": "swkQceKC-WfN"
    },
    {
      "cell_type": "markdown",
      "source": [
        "**c) git merge**\n",
        "```\n",
        "alice            *-*-*-*-d-e-a-b-c     \n",
        "bob              *-*-*-*-a-b-c\n",
        "origin/main      *-*-*-*-d-e-a-b-c\n",
        "```"
      ],
      "metadata": {
        "id": "obRWW0Gz-iIc"
      },
      "id": "obRWW0Gz-iIc"
    },
    {
      "cell_type": "markdown",
      "source": [
        "**d) Rebase would be the better option since by conducting a merge, you would get a,b,c form the remote branch and put it before d and e. So when this is committed the history would be changed which is not preferable when working with collaborators.**"
      ],
      "metadata": {
        "id": "NZrG2xZclhPg"
      },
      "id": "NZrG2xZclhPg"
    },
    {
      "cell_type": "markdown",
      "id": "65b5eb8a-cee0-4a97-b89c-8746c37669ea",
      "metadata": {
        "id": "65b5eb8a-cee0-4a97-b89c-8746c37669ea"
      },
      "source": [
        "## Question 6\n",
        "#### Match the command/vocab word to the description.\n",
        "You can edit the table!\n",
        "\n",
        "| Command / Vocab     | Answer | Description |\n",
        "|---------------------|------------|------------|\n",
        "| git stash          |  | B.  Takes any changes that haven't been committed and puts them in a dust bin |\n",
        "| git push           |  | J.  Pushes the new commits to the main branch |\n",
        "| git clone          |  | N.  Makes a copy of an existing repo at in a new directory at another location |\n",
        "| git commit         |  | M.  Saves file changes to the main branch |\n",
        "| git log            |  | A.  Gives project history |\n",
        "| git add -i         | | K.  Interactive staging! |\n",
        "| git rebase         |  | P.  Combines branches by moving commits onto the tip of another branch, creating a linear history |\n",
        "| git init           |  | Q. Creates a new git repository |\n",
        "| git checkout       |  | E.  Moves something from the branch to the working copy |\n",
        "| git status         |  | F.  Lists which files are staged, unstaged, and untracked |\n",
        "| git diff           |  | O.  Compares current, unsaved changes to the main branch |\n",
        "| git merge          |  | H.  Combines two branches together in a way that is not ideal for your collaborators |\n",
        "| git add            |  | I.  Adds changes from the working directory to the staging area |\n",
        "| git pull           |  | D.  Retrieves any commits on the remote branch that you don’t yet have locally and integrates them into your current branch |\n",
        "| git show           |  | G.  Displays information about a specific commit |\n",
        "| git blame          |  | C.  Shows who last modified each line of a file and in which commit |\n",
        "| .gitignore         |  | L.  Text file that contains names of files Git should not track |"
      ]
    },
    {
      "cell_type": "markdown",
      "id": "36663f18-7e8a-4400-86ef-1cbda6b508c1",
      "metadata": {
        "id": "36663f18-7e8a-4400-86ef-1cbda6b508c1"
      },
      "source": [
        "## Question 7\n",
        "#### Walk me through how you would do interactive staging.\n",
        "#### a) Firstly, what situation would interactive staging be useful in?\n",
        "#### b) What command(s) help you prepare for what you'll see while interactive staging?\n",
        "*Hint*: Check the TA notes.\n",
        "#### c) What git command would you use to start interactive staging?\n",
        "\n",
        "#### d) On the text-based interactive menu, what option do you use?\n",
        "\n",
        "#### e) After pressing that option, how do you select the file you want to stage?\n",
        "\n",
        "#### f) What option do you type if you do not want to stage a hunk?\n",
        "\n",
        "#### g) Once you get to a hunk you want to stage, what do you do?\n",
        "\n",
        "#### h) What if we have more hunks we want to stage?\n"
      ]
    },
    {
      "cell_type": "markdown",
      "source": [
        "**a) Interactive staging would be helpful when you have multiple changes that are unrelated in one file and you would like to commit them separately.**"
      ],
      "metadata": {
        "id": "6kIFm9Tlg_S1"
      },
      "id": "6kIFm9Tlg_S1"
    },
    {
      "cell_type": "code",
      "source": [
        "#part b\n",
        "git status\n",
        "git diff"
      ],
      "metadata": {
        "id": "cUtzkHO7hLqc"
      },
      "id": "cUtzkHO7hLqc",
      "execution_count": null,
      "outputs": []
    },
    {
      "cell_type": "code",
      "source": [
        "#part c\n",
        "git add -i"
      ],
      "metadata": {
        "id": "J07MFBj1hRc-"
      },
      "id": "J07MFBj1hRc-",
      "execution_count": null,
      "outputs": []
    },
    {
      "cell_type": "markdown",
      "source": [
        "**d) You would use `p` for patch.**"
      ],
      "metadata": {
        "id": "bRtQVb4FhXSB"
      },
      "id": "bRtQVb4FhXSB"
    },
    {
      "cell_type": "markdown",
      "source": [
        "**e) You would use the number that is corresponding to the file that is listed.**"
      ],
      "metadata": {
        "id": "YU3tXSwHhxGy"
      },
      "id": "YU3tXSwHhxGy"
    },
    {
      "cell_type": "markdown",
      "source": [
        "**f) To not stage a hunk select type `n`.**"
      ],
      "metadata": {
        "id": "eJ5FqVlDh88T"
      },
      "id": "eJ5FqVlDh88T"
    },
    {
      "cell_type": "markdown",
      "source": [
        "**g) To stage the hunk type `y`.**"
      ],
      "metadata": {
        "id": "v5MI90CCiICG"
      },
      "id": "v5MI90CCiICG"
    },
    {
      "cell_type": "markdown",
      "source": [
        "**h) To stage another hunk, start interactive session via `git add -i`, repeat the process, and continue staging the remaining hunks till all completed.**"
      ],
      "metadata": {
        "id": "FjmM0csHia-S"
      },
      "id": "FjmM0csHia-S"
    }
  ],
  "metadata": {
    "kernelspec": {
      "display_name": "Python 3 (ipykernel)",
      "language": "python",
      "name": "python3"
    },
    "language_info": {
      "codemirror_mode": {
        "name": "ipython",
        "version": 3
      },
      "file_extension": ".py",
      "mimetype": "text/x-python",
      "name": "python",
      "nbconvert_exporter": "python",
      "pygments_lexer": "ipython3",
      "version": "3.10.16"
    },
    "colab": {
      "provenance": []
    }
  },
  "nbformat": 4,
  "nbformat_minor": 5
}